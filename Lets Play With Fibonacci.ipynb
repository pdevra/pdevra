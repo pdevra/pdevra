{
 "cells": [
  {
   "cell_type": "code",
   "execution_count": 27,
   "id": "065398de",
   "metadata": {},
   "outputs": [
    {
     "name": "stdout",
     "output_type": "stream",
     "text": [
      "1 1 2 3 5 8 13 21 34 "
     ]
    }
   ],
   "source": [
    "#Note : The Fibonacci Sequence is the series of numbers :\n",
    "\n",
    "#0, 1, 1, 2, 3, 5, 8, 13, 21, ....\n",
    "a,b = 0,1\n",
    "print(b, end=' ')\n",
    "\n",
    "for i in range(0,50):\n",
    "    a,b = b,b+a\n",
    "    if b <= 50:\n",
    "        print(b,end=' ')\n"
   ]
  },
  {
   "cell_type": "code",
   "execution_count": null,
   "id": "237651a5",
   "metadata": {},
   "outputs": [],
   "source": []
  }
 ],
 "metadata": {
  "kernelspec": {
   "display_name": "Python 3 (ipykernel)",
   "language": "python",
   "name": "python3"
  },
  "language_info": {
   "codemirror_mode": {
    "name": "ipython",
    "version": 3
   },
   "file_extension": ".py",
   "mimetype": "text/x-python",
   "name": "python",
   "nbconvert_exporter": "python",
   "pygments_lexer": "ipython3",
   "version": "3.9.7"
  }
 },
 "nbformat": 4,
 "nbformat_minor": 5
}
